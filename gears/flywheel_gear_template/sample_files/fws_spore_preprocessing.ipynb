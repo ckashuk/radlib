{
 "cells": [
  {
   "cell_type": "code",
   "execution_count": 1,
   "id": "f5c34196-90d4-42dc-a930-b5c04f5ce8ca",
   "metadata": {},
   "outputs": [],
   "source": [
    "# @FWS-IMPORTS add all import requirements here\n",
    "from radlib_imports import *\n",
    "from radlib.fw.flywheel_clients import uwhealth_client, uwhealthaz_client\n",
    "from radlib.fws.fws_image import FWSImageFile, FWSImageType, FWSImageFileList\n",
    "from radlib.fws.fws_utils import fws_input_file_list, fws_in_jupyter_notebook, fws_load_image\n",
    "from radlib.dcm.utilities import get_sitk_dicom_tag\n",
    "from radlib.projects.spore_17009_set import get_slice_conversion, get_pathology_file_list, update_dicom_tags_for_pathology_instance"
   ]
  },
  {
   "cell_type": "code",
   "execution_count": 3,
   "id": "e11b6508-4f60-436e-b4c9-2e7ffe39ab91",
   "metadata": {},
   "outputs": [],
   "source": [
    "fw_rad_client = uwhealthaz_client()\n",
    "fw_path_client = uwhealth_client()\n",
    "\n",
    "rad_group_id = 'prostatespore'\n",
    "rad_project_label = 'DODProjectRead'\n",
    "rad_subject_label = '17009_Pyl11'\n",
    "\n",
    "path_group_id = 'prosspore'\n",
    "path_project_label = 'Complete17009PathologyArchive'\n",
    "path_subject_label = 'P11'\n",
    "\n",
    "path_session_name = 'Pathology'\n",
    "ref_session_name = 'Reference'\n",
    "\n",
    "fws_files = fws_input_file_list(fw_rad_client, rad_project_label, subject_labels=[rad_subject_label], generate_code=False,\n",
    "                                        local_root=None)"
   ]
  },
  {
   "cell_type": "code",
   "execution_count": 3,
   "id": "9cb4a629-1992-450c-b9c1-eabcc07a8a4c",
   "metadata": {},
   "outputs": [],
   "source": [
    "# FWS-INPUTS edit this cell to the flywheel file references that you need, add local_path(s) if necessary, then TURN OFF generate_code above\n",
    "local_root = \"None\"\n",
    "fws_input_files = FWSImageFileList( {\n",
    "\"PET1_Obl\": FWSImageFile(fw_rad_client, fw_path=\"prostatespore/DODProjectRead/17009_Pyl11/PET1/Obl Axial T2 Prostate/Obl Axial T2 Prostate.dicom.zip\",\n",
    "\tlocal_path=\"None\"),\n",
    "\"PET1_PET\": FWSImageFile(fw_rad_client, fw_path=\"prostatespore/DODProjectRead/17009_Pyl11/PET1/PET AC Prostate/PET AC Prostate.dicom.zip\",\n",
    "\tlocal_path=\"None\"),\n",
    "})"
   ]
  },
  {
   "cell_type": "code",
   "execution_count": 7,
   "id": "6d735b76-cb3c-41e7-87f8-2f41de81ef2e",
   "metadata": {},
   "outputs": [
    {
     "name": "stderr",
     "output_type": "stream",
     "text": [
      "C:\\Anaconda\\Lib\\site-packages\\openpyxl\\worksheet\\_read_only.py:79: UserWarning: Unknown extension is not supported and will be removed\n",
      "  for idx, row in parser.parse():\n"
     ]
    }
   ],
   "source": [
    "# slice to pre and post mr conversions from excel file\n",
    "pathology_slices, pre_slices, post_slices = get_slice_conversion(path_subject_label)"
   ]
  },
  {
   "cell_type": "code",
   "execution_count": 8,
   "id": "5329fd87-d6ee-4893-9455-5ee12ede9f86",
   "metadata": {},
   "outputs": [],
   "source": [
    "rad_project = fw_rad_client.projects.find_one(f'label={rad_project_label}')\n",
    "rad_subject = rad_project.subjects.find_one(f'label={rad_subject_label}')"
   ]
  },
  {
   "cell_type": "code",
   "execution_count": 9,
   "id": "f2c946b9-04be-45e7-a476-4344c57feeef",
   "metadata": {},
   "outputs": [],
   "source": [
    "# unfortunately we have three different cases to look for files, not worth reorganizing for now\n",
    "if path_subject_label in ['P27', 'P28']:\n",
    "    path_file_list = get_pathology_file_list(fw_path_client, path_group_id, path_project_label, path_subject_label, 'H_E Slices', 'Edited Scans')\n",
    "\n",
    "elif path_subject_label in ['P29', 'P30']:\n",
    "      path_file_list = get_pathology_file_list(fw_path_client, path_group_id, path_project_label, path_subject_label, 'Beebe Data', 'Tissue Data')\n",
    "\n",
    "else:\n",
    "    path_file_list = get_pathology_file_list(fw_path_client, path_group_id, path_project_label, path_subject_label, 'Beebe Data', 'H_E Slices')"
   ]
  },
  {
   "cell_type": "code",
   "execution_count": 10,
   "id": "76b5d3d4-b47e-474f-aa88-6bccf50b7265",
   "metadata": {},
   "outputs": [],
   "source": [
    "obl_slices = fws_input_files['PET1_Obl'].load_image(image_type=FWSImageType.pydicom)"
   ]
  },
  {
   "cell_type": "code",
   "execution_count": 11,
   "id": "032de04d-8495-4fc4-ac83-61ea89500810",
   "metadata": {},
   "outputs": [],
   "source": [
    "# for each pathology \"slice\", find the corresponding pre slice, open it, set the position of the pathology slice to it, and save as a dicom\n",
    "path_images = []\n",
    "path_used = []\n",
    "new_path_series_instance_uid = pydicom.uid.generate_uid()\n",
    "\n",
    "for path_slice_index, pre_slice_index, post_slice_index in zip(pathology_slices, pre_slices, post_slices):\n",
    "    path_file_name = path_file_list[path_slice_index]\n",
    "    if path_file_name is None:\n",
    "        path_file_name = path_file_list[path_slice_index+1]\n",
    "    if path_file_name in path_used or path_file_name is None:\n",
    "        continue\n",
    "        \n",
    "    if path_subject_label == 'P27' or path_subject_label == 'P28':\n",
    "        path_fw_path = f'{path_group_id}/{path_project_label}/{path_subject_label}/H_E Slices/Edited Scans/{path_file_name}'\n",
    "\n",
    "    else:\n",
    "        path_fw_path = f'{path_group_id}/{path_project_label}/{path_subject_label}/Beebe Data/H_E Slices/{path_file_name}'\n",
    "\n",
    "    path_image = FWSImageFile(fw_path_client, fw_path=path_fw_path)\n",
    "\n",
    "    path_image.load_image(image_type=FWSImageType.tif)\n",
    "    path_slice = path_image.convert_image_to_dicom()\n",
    "    path_slice_updated = update_dicom_tags_for_pathology_instance(path_subject_label, path_slice, path_slice_index, obl_slices[pre_slice_index], \n",
    "                                                                  new_path_series_instance_uid)\n",
    "\n",
    "    path_images.append(path_slice_updated)\n",
    "    path_used.append(path_file_name)\n",
    "\n",
    "path_images = sorted(path_images, key=lambda s: s.GetOrigin()[2])"
   ]
  },
  {
   "cell_type": "code",
   "execution_count": 12,
   "id": "66c1da63-906a-48a0-9e95-f309c527f81b",
   "metadata": {},
   "outputs": [],
   "source": [
    "# save as dicom slices to zip file\n",
    "# writer for dicom slices, keep UIDs\n",
    "writer = sitk.ImageFileWriter()\n",
    "writer.KeepOriginalImageUIDOn()\n",
    "\n",
    "zip_root_dir = tempfile.gettempdir()\n",
    "zip_folder = f'{zip_root_dir}/{path_session_name}'\n",
    "if os.path.exists(zip_folder):\n",
    "    shutil.rmtree(zip_folder)\n",
    "os.mkdir(zip_folder)\n",
    "\n",
    "for p, path_image in enumerate(path_images):\n",
    "    writer.SetFileName(f'{zip_folder}/{rad_subject_label}_pathology_{(p+1):02}.dcm')\n",
    "    writer.Execute(path_image)\n",
    "from zipfile import ZipFile\n",
    "import glob\n",
    "zip_path = f'{zip_root_dir}\\\\pathology_images.dicom.zip'\n",
    "with ZipFile(zip_path, 'w') as zip_file:\n",
    "    for file_path in glob.glob(f'{zip_folder}/*.dcm'):\n",
    "        zip_file.write(file_path, f'/{os.path.basename(file_path)}')"
   ]
  },
  {
   "cell_type": "code",
   "execution_count": 14,
   "id": "7f187e66-1f41-4bc8-89c3-863f4bdf38c6",
   "metadata": {},
   "outputs": [
    {
     "data": {
      "text/plain": [
       "[{'classification': {},\n",
       "  'client_hash': None,\n",
       "  'copy_of': None,\n",
       "  'created': datetime.datetime(2025, 3, 27, 18, 12, 54, 98832, tzinfo=tzutc()),\n",
       "  'deid_log_id': None,\n",
       "  'deid_log_skip_reason': None,\n",
       "  'deleted': None,\n",
       "  'file_id': '67e595263b5f26f5cd8741aa',\n",
       "  'gear_info': None,\n",
       "  'hash': 'f77202b83a9ba3aef9beba222ead15629fbdaa5311b052cd56563322481f34622aa00071fe1a61cb619799c2b5ee5816',\n",
       "  'id': '5604935c-5da9-4aee-8515-3b349408fb3b',\n",
       "  'info': {},\n",
       "  'info_exists': False,\n",
       "  'mimetype': 'application/zip',\n",
       "  'modality': None,\n",
       "  'modified': datetime.datetime(2025, 3, 27, 18, 12, 54, 98832, tzinfo=tzutc()),\n",
       "  'name': 'pathology_images.dicom.zip',\n",
       "  'origin': {'id': 'ckashuk@wisc.edu', 'type': <OriginType.USER: 'user'>},\n",
       "  'original_copy_of': None,\n",
       "  'parent_ref': {'id': '67e59522c3d6cef71ca37cea', 'type': 'acquisition'},\n",
       "  'parents': {'acquisition': '67e59522c3d6cef71ca37cea',\n",
       "              'analysis': None,\n",
       "              'group': 'prostatespore',\n",
       "              'project': '67c0a7636cd3bf154dc897bd',\n",
       "              'session': '67c5f4c872abddaf9ad02f79',\n",
       "              'subject': '67c0b263e6461305d7d02d73'},\n",
       "  'path': '5604935c-5da9-4aee-8515-3b349408fb3b',\n",
       "  'provider_id': '663bceca8280ad0739cf15e1',\n",
       "  'reference': None,\n",
       "  'replaced': None,\n",
       "  'restored_by': None,\n",
       "  'restored_from': None,\n",
       "  'size': 23840652,\n",
       "  'tags': [],\n",
       "  'type': 'dicom',\n",
       "  'version': 1,\n",
       "  'virus_scan': None,\n",
       "  'zip_member_count': None}]"
      ]
     },
     "execution_count": 14,
     "metadata": {},
     "output_type": "execute_result"
    }
   ],
   "source": [
    "# upload the result to flywheel\n",
    "ack = rad_subject.sessions.find(f'label={path_session_name}')[0].add_acquisition(label='pathology_images4')\n",
    "ack.upload_file(zip_path)"
   ]
  },
  {
   "cell_type": "code",
   "execution_count": null,
   "id": "f7647082-7a37-47f0-b348-af8ffcbb2333",
   "metadata": {},
   "outputs": [],
   "source": [
    "# make regridded pet dicom slices like obl\n",
    "pet_regrid = sitk.GetArrayFromImage(sitk.ReadImage(pet_regrid_nii_gz_path))\n",
    "pet_regrid = pet_regrid.swapaxes(0, 2)\n",
    "pet_regrid = pet_regrid.swapaxes(0, 1)\n",
    "\n",
    "new_series_instance_uid = pydicom.uid.generate_uid()\n",
    "\n",
    "for p, obl_slice in enumerate(obl_slices):\n",
    "    pet_slice_img = pet_regrid[:, :, p]\n",
    "    pet_slice_img[pet_slice_img > 32000] = 32000\n",
    "    pet_slice_img = [np.astype(pet_regrid[:, :, p], np.int16)]\n",
    "    pet_slice = sitk.GetImageFromArray(pet_slice_img)\n",
    "    pet_slice.CopyInformation(obl_slice)\n",
    "    pet_slice = update_dicom_tags_for_mr_instance(pet_slice, obl_slice, series_id=new_series_instance_uid)\n",
    "    pet_slice.SetMetaData('0008|0060', \"PT\")\n",
    "    pet_slice.SetMetaData('0008|103e', f'{rad_subject_label} regridded PET')\n",
    "\n",
    "    writer.SetFileName(f'{zip_folder}/{rad_subject_label}_pet_regrid_{(p + 1):02}.dcm')\n",
    "    writer.Execute(pet_slice)"
   ]
  },
  {
   "cell_type": "code",
   "execution_count": null,
   "id": "db3b6bd7-1903-4ad3-b8b4-85bf10404e09",
   "metadata": {},
   "outputs": [],
   "source": [
    "# save as dicom slices to zip file\n",
    "zip_root_dir = tempfile.gettempdir()\n",
    "zip_folder = f'{zip_root_dir}/PET_regrid'\n",
    "if os.path.exists(zip_folder):\n",
    "    shutil.rmtree(zip_folder)\n",
    "os.mkdir(zip_folder)\n",
    "\n",
    "zip_path = f'{zip_folder}/PET_regrid.dicom.zip'\n",
    "with ZipFile(zip_path, 'w') as zip_file:\n",
    "    for file_path in glob.glob(f'{zip_folder}/*.dcm'):\n",
    "        zip_file.write(file_path, f'/{os.path.basename(file_path)}')\n",
    "\n",
    "# upload to flywheel\n",
    "ack = rad_subject.sessions.find(f'label={path_session_name}')[0].add_acquisition(label='fws_PET_regrid')\n",
    "ack.upload_file(zip_path)"
   ]
  },
  {
   "cell_type": "code",
   "execution_count": null,
   "id": "658fb6a2-2234-426e-b970-db1913d0f283",
   "metadata": {},
   "outputs": [],
   "source": []
  }
 ],
 "metadata": {
  "kernelspec": {
   "display_name": "Python 3 (ipykernel)",
   "language": "python",
   "name": "python3"
  },
  "language_info": {
   "codemirror_mode": {
    "name": "ipython",
    "version": 3
   },
   "file_extension": ".py",
   "mimetype": "text/x-python",
   "name": "python",
   "nbconvert_exporter": "python",
   "pygments_lexer": "ipython3",
   "version": "3.11.7"
  }
 },
 "nbformat": 4,
 "nbformat_minor": 5
}
