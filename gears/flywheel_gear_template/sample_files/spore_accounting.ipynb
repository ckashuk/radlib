{
 "cells": [
  {
   "cell_type": "code",
   "execution_count": 2,
   "id": "48598316-f8cb-4686-b0b9-15039123680c",
   "metadata": {},
   "outputs": [],
   "source": [
    "import flywheel\n",
    "def uwhealth_client():\n",
    "    return flywheel.Client('flywheel.uwhealth.org:djEj5E3OpCZiSj9p2uN_mqylHwaxGe7TewSklvXnKny9WiT1O9Y9Wgjgg',\n",
    "                           request_timeout=1000)"
   ]
  },
  {
   "cell_type": "code",
   "execution_count": 3,
   "id": "182681f0-92df-49d7-93af-f57d7bf69592",
   "metadata": {},
   "outputs": [],
   "source": [
    "fw_client = uwhealth_client()"
   ]
  },
  {
   "cell_type": "code",
   "execution_count": 6,
   "id": "c9df3178-d203-4990-93bc-f178047db49b",
   "metadata": {},
   "outputs": [],
   "source": [
    "fw_project = fw_client.projects.find_one('label=Complete17009PathologyArchive')"
   ]
  },
  {
   "cell_type": "code",
   "execution_count": 1,
   "id": "648334bb-9187-4178-9bd7-dce09836e4ac",
   "metadata": {},
   "outputs": [
    {
     "name": "stdout",
     "output_type": "stream",
     "text": [
      "test\n"
     ]
    }
   ],
   "source": []
  },
  {
   "cell_type": "code",
   "execution_count": null,
   "id": "5ebbd707-988d-4e8a-91a1-4146f35ca503",
   "metadata": {},
   "outputs": [],
   "source": []
  }
 ],
 "metadata": {
  "kernelspec": {
   "display_name": "Python 3 (ipykernel)",
   "language": "python",
   "name": "python3"
  },
  "language_info": {
   "codemirror_mode": {
    "name": "ipython",
    "version": 3
   },
   "file_extension": ".py",
   "mimetype": "text/x-python",
   "name": "python",
   "nbconvert_exporter": "python",
   "pygments_lexer": "ipython3",
   "version": "3.11.7"
  }
 },
 "nbformat": 4,
 "nbformat_minor": 5
}
