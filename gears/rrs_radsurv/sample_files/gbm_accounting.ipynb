{
 "cells": [
  {
   "cell_type": "code",
   "execution_count": 2,
   "id": "48598316-f8cb-4686-b0b9-15039123680c",
   "metadata": {},
   "outputs": [],
   "source": [
    "import flywheel\n",
    "def uwhealth_client():\n",
    "    return flywheel.Client('flywheelaz.uwhealth.org:djEfiALy55nFsQ99M4E6ZQAW8F53fYucPUqU8HQhlZ4dBfsWZ-BYOcpCQ',\n",
    "                           request_timeout=1000)"
   ]
  },
  {
   "cell_type": "code",
   "execution_count": 3,
   "id": "182681f0-92df-49d7-93af-f57d7bf69592",
   "metadata": {},
   "outputs": [],
   "source": [
    "fw_client = uwhealth_client()"
   ]
  },
  {
   "cell_type": "code",
   "execution_count": 4,
   "id": "c9df3178-d203-4990-93bc-f178047db49b",
   "metadata": {},
   "outputs": [
    {
     "name": "stdout",
     "output_type": "stream",
     "text": [
      "GBM Cohort\n",
      "299\n"
     ]
    }
   ],
   "source": [
    "fw_project = fw_client.projects.find_one('label=GBM Cohort')\n",
    "print(fw_project.label)\n",
    "print(len(fw_project.subjects()))"
   ]
  },
  {
   "cell_type": "code",
   "execution_count": 10,
   "id": "648334bb-9187-4178-9bd7-dce09836e4ac",
   "metadata": {},
   "outputs": [
    {
     "name": "stdout",
     "output_type": "stream",
     "text": [
      "RAD-AI-CNS-TUMOR-0001 2019-12-10 09_30_33 14 - +C Ax T1 BRAVO Stealth.dicom.zip ['nifti_raw', 'T1c']\n",
      "RAD-AI-CNS-TUMOR-0001 2019-12-10 09_30_33 3 - Sag T1 FLAIR.dicom.zip ['nifti_raw', 'FLAIR']\n",
      "RAD-AI-CNS-TUMOR-0001 2019-12-10 09_30_33 4 - Ax T2 FRFSE FAT.dicom.zip ['nifti_raw', 'T2']\n",
      "RAD-AI-CNS-TUMOR-0001 2019-12-10 09_30_33 8 - Cor T1 3D BRAVO.dicom.zip ['nifti_raw', 'T1']\n",
      "RAD-AI-CNS-TUMOR-0002 2016-11-20 18_32_46 13 - +C Sag CUBE T2 FLAIR.dicom.zip ['nifti_raw', 'FLAIR']\n",
      "RAD-AI-CNS-TUMOR-0002 2016-11-20 18_32_46 15 - +C  Ax T1 Bravo Stealth.dicom.zip ['nifti_raw', 'T1c']\n",
      "RAD-AI-CNS-TUMOR-0002 2016-11-20 18_32_46 6 - Sag T1 FSE.dicom.zip ['nifti_raw', 'T1']\n",
      "RAD-AI-CNS-TUMOR-0002 2016-11-20 18_32_46 7 - Ax T2 FRFSE fatsat.dicom.zip ['nifti_raw', 'T2']\n",
      "RAD-AI-CNS-TUMOR-0004 2012-02-07 19_39_56 13 - +c Ax T1 Stealth BRAVO.dicom.zip ['nifti_raw', 'T1c']\n",
      "RAD-AI-CNS-TUMOR-0004 2012-02-07 19_39_56 4 - Sag T1 FLAIR.dicom.zip ['nifti_raw', 'T1']\n",
      "RAD-AI-CNS-TUMOR-0004 2012-02-07 19_39_56 5 - Ax T2 fat sat.dicom.zip ['nifti_raw', 'T2']\n",
      "RAD-AI-CNS-TUMOR-0016 2020-01-05 08_16_08 10 - FLAIR AX.dicom.zip ['nifti_raw', 'FLAIR']\n",
      "RAD-AI-CNS-TUMOR-0026 2014-08-17 15_42_26 10 - t1_mpr_tra_iso.dicom.zip ['nifti_raw', 'T1c']\n"
     ]
    }
   ],
   "source": [
    "for fw_subject in fw_project.subjects():\n",
    "    # if fw_subject.label != 'RAD-AI-CNS-TUMOR-0002':\n",
    "    #     continue\n",
    "\n",
    "    tags_to_use = ['T1', 'T1c', 'T2', 'FLAIR']\n",
    "    \n",
    "    for fw_session in fw_subject.sessions()[0:1]:\n",
    "        for fw_acquisition in fw_session.acquisitions():\n",
    "            for fw_file in fw_acquisition.files:\n",
    "                if any(tag in fw_file.tags for tag in tags_to_use):\n",
    "                    print(fw_subject.label, fw_session.label, fw_file.name, fw_file.tags)"
   ]
  },
  {
   "cell_type": "code",
   "execution_count": null,
   "id": "45f57ff6-0062-4085-ac1e-70e6318b97cf",
   "metadata": {},
   "outputs": [],
   "source": []
  }
 ],
 "metadata": {
  "kernelspec": {
   "display_name": "Python 3 (ipykernel)",
   "language": "python",
   "name": "python3"
  },
  "language_info": {
   "codemirror_mode": {
    "name": "ipython",
    "version": 3
   },
   "file_extension": ".py",
   "mimetype": "text/x-python",
   "name": "python",
   "nbconvert_exporter": "python",
   "pygments_lexer": "ipython3",
   "version": "3.11.7"
  }
 },
 "nbformat": 4,
 "nbformat_minor": 5
}
