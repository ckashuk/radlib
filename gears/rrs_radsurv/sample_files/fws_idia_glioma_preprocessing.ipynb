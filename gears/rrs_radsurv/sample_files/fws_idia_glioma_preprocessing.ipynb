{
 "cells": [
  {
   "cell_type": "code",
   "execution_count": 1,
   "id": "5049a559-bd13-4ad9-ba70-e52ec18af0f8",
   "metadata": {},
   "outputs": [],
   "source": [
    "# @FWS-IMPORTS add all import requirements here\n",
    "from radlib_imports import *\n",
    "# from radlib.idia.idia_dicom_converter import DicomConversion\n",
    "from radlib.fw.flywheel_clients import uwhealthaz_client\n",
    "from radlib.fws.fws_utils import fws_input_file_list, fws_load_image, fws_in_jupyter_notebook\n",
    "from radlib.fws.fws_image import FWSImageFile, FWSImageFileList\n",
    "from radlib.idia.idia_dicom_selection import DicomSelectionSingle, convert_dataset_to_nifti, mri_data_check"
   ]
  },
  {
   "cell_type": "code",
   "execution_count": 2,
   "id": "c820e74b-aa54-45d9-889e-9137c62188f5",
   "metadata": {
    "jupyter": {
     "source_hidden": true
    }
   },
   "outputs": [],
   "source": [
    "# main_config.yaml\n",
    "main_config = yaml.safe_load('''\n",
    "# root_path: \"/app/Glioma\" # data folder (parent)\n",
    "root_path: \"//onfnas01.uwhis.hosp.wisc.edu/radiology/Groups/IDIAGroup/Data/_Brain/Radiology/_Adult/_Glioma\"\n",
    "#root_path: \"/app/Data/_Brain/Radiology/_Adult/_Glioma\" # data folder (parent)\n",
    "#root_path: \"Y:/Groups/IDIAGroup/Data/_Brain/Radiology/_Adult/_Glioma\"\n",
    "\n",
    "mri_sites:  # add as many dataset as nedeed (coded by site{n})\n",
    "  site0: \"UCSF-PDGM\"\n",
    "  site1: \"LUMIERE\"\n",
    "  site2: \"CCF\"\n",
    "  site3: \"IVYGAP\"\n",
    "  site4: \"xCures\"\n",
    "  site5: \"TCGA-GBM\"\n",
    "  site6: \"GBM_Cohort_brucegroup/UW-GBM\"\n",
    "\n",
    "mri_data: [\"site6\"] # data to be included in the pipeline\n",
    "\n",
    "submodule_configs:\n",
    "  preprocessing: \"config/preprocessing_config.yaml\"\n",
    "  radiomics: \"config/radiomics_config.yaml\"\n",
    "\n",
    "# Enabling modules\n",
    "run_dicomSelection: False\n",
    "run_dicomConversion: False\n",
    "run_niftiSelection: False\n",
    "run_preprocessing: True\n",
    "run_segmentation: False\n",
    "run_radiomics: False\n",
    "run_survival_train: False\n",
    "run_survival_test: False\n",
    "run_deep_learning: False\n",
    "run_feature_visualization: False\n",
    "''')"
   ]
  },
  {
   "cell_type": "code",
   "execution_count": 3,
   "id": "4f22b9a3-f252-4f46-859d-b39b4d774bc2",
   "metadata": {
    "jupyter": {
     "source_hidden": true
    }
   },
   "outputs": [],
   "source": [
    "# preprocessing_config.yaml\n",
    "preprocessing_config = yaml.safe_load('''\n",
    "dirs:\n",
    "  raw_dicoms: \"dicom_raw\"\n",
    "  input_dicoms: \"dicom_structuralMRI_csk\"\n",
    "  raw_nifti: \"nifti_raw_csk\"\n",
    "  preprocessed: \"preprocessed_csk\"\n",
    "  metadata: \"Metadata_csk\"\n",
    "  logs: \"logs_csk\"\n",
    "\n",
    "#pre-processign pipelines / parameters\n",
    " \n",
    "preprocessing_settings:\n",
    "  query_nifti_file: \"niiQuery.csv\"\n",
    "  acquisition_tag: \"Baseline\"\n",
    "  query_key: \"included_modality\"\n",
    "  mri_modalities: [\"T1c\",\"T1\",\"T2\",\"FLAIR\"]\n",
    "\n",
    "ants_preprocessing:\n",
    "  first_step: \n",
    "    name: \"Modality_2_atlas_reg\"\n",
    "    mri_str: \"T1c\" \n",
    "    atlas_str: \"SRI24\"\n",
    "    ext: \".nii.gz\"\n",
    "    mask_str: None\n",
    "    aff_metric : \"mattes\"\n",
    "    type_of_transform : \"Affine\"\n",
    "    transforming_mask: False\n",
    "    brain_mask: None # HD_BET or Atlas_mask Default= None\n",
    "\n",
    "  second_step: \n",
    "    name: \"Modalities_coregistration\"\n",
    "    ext: \".nii.gz\"\n",
    "    aff_metric : \"mattes\"\n",
    "    type_of_transform : \"Affine\"\n",
    "    transforming_mask: False\n",
    "    SkullStripp: None # HD_BET or Atlas_mask Default= None\n",
    "\n",
    "  third_step: \n",
    "    name: \"HD_SkullStripp\"\n",
    "\n",
    "  fourth_step: \n",
    "    name: \"N4Bias_correction\"\n",
    "  fifth_step:  \n",
    "    name: \"IntensityScaling\"\n",
    "\n",
    "# image_resize:\n",
    "#   first_step: \"T1c_coregistration\"\n",
    "#   second_step:  \"HD_SkullStripp\"\n",
    "#   third_step: \"N4Bias_correction\"\n",
    "#   fourth_step:  \"ants_resampling\"\n",
    "''')"
   ]
  },
  {
   "cell_type": "code",
   "execution_count": 4,
   "id": "3042c2d5-fc5c-40fe-ae79-bd1f33b04e6f",
   "metadata": {
    "jupyter": {
     "source_hidden": true
    }
   },
   "outputs": [],
   "source": [
    "# radiomics_config.yaml\n",
    "radiomics_config = yaml.safe_load('''\n",
    "analysis_method: \"radiomics\"\n",
    "features_to_extract: [\"shape\", \"texture\", \"intensity\"]\n",
    "''')"
   ]
  },
  {
   "cell_type": "code",
   "execution_count": 5,
   "id": "bb8608d3-712e-4608-94dc-b12d498b25c3",
   "metadata": {},
   "outputs": [],
   "source": [
    "# @FWS-FILES part of the script mechanism that will be replaced by the gear\"s context\n",
    "root_path=\"z:/radiology/Groups/IDIAGroup/Data/_Brain/Radiology/_Adult/_Glioma/GBM_Cohort_brucegroup/\"\n",
    "mri_data=\"TCGA-GBM\"\n",
    "indir=\"DICOM_structuralMRI_fws\"\n",
    "outdir=\"nifti_raw\"\n",
    "\n",
    "input_path=os.path.join(root_path,mri_data,indir)\n",
    "output_path=os.path.join(root_path,mri_data,outdir)\n",
    "\n",
    "fw_client = uwhealthaz_client()\n",
    "group_id = ''\n",
    "project_label = \"GBM Cohort\"\n",
    "subject_label = \"RAD-AI-CNS-TUMOR-0001\"\n",
    "\n",
    "logger = logging.getLogger(__name__)\n",
    "fws_files = fws_input_file_list(fw_client, project_label, subject_labels=['RAD-AI-CNS-TUMOR-0001'], generate_code=False,\n",
    "                                        local_root='//onfnas01.uwhis.hosp.wisc.edu/radiology/Groups/IDIAGroup/Data/_Brain/Radiology/_Adult/_Glioma/GBM_Cohort_brucegroup/UW-GBM/dicom_raw/RAD-AI-CNS-TUMOR-0001/2019-12-10 09_30_33')"
   ]
  },
  {
   "cell_type": "code",
   "execution_count": 6,
   "id": "fee139fb-12bd-4dda-b437-c5a9bbd1ae43",
   "metadata": {
    "jupyter": {
     "source_hidden": true
    }
   },
   "outputs": [],
   "source": [
    "# FWS-INPUTS edit this cell to the flywheel file references that you need, add local_path(s) if necessary, then TURN OFF generate_code above\n",
    "local_root = \"//onfnas01.uwhis.hosp.wisc.edu/radiology/Groups/IDIAGroup/Data/_Brain/Radiology/_Adult/_Glioma/GBM_Cohort_brucegroup/UW-GBM/dicom_raw/RAD-AI-CNS-TUMOR-0001/2019-12-10 09_30_33\"\n",
    "fws_input_files = FWSImageFileList( {\n",
    "\"2019_12_10_09_30_33_1 - 3-Plane Loc.dicom.zip\": FWSImageFile(fw_client=fw_client, fw_path=\"brucegroup/GBM Cohort/RAD-AI-CNS-TUMOR-0001/2019-12-10 09_30_33/1 - 3-Plane Loc/1 - 3-Plane Loc.dicom.zip\",\n",
    "\tlocal_path=\"//onfnas01.uwhis.hosp.wisc.edu/radiology/Groups/IDIAGroup/Data/_Brain/Radiology/_Adult/_Glioma/GBM_Cohort_brucegroup/UW-GBM/dicom_raw/RAD-AI-CNS-TUMOR-0001/2019-12-10 09_30_33/1 - 3-Plane Loc.dicom.zip\"),\n",
    "\"2019_12_10_09_30_33_10 - Ax T2star GRE.dicom.zip\": FWSImageFile(fw_client=fw_client, fw_path=\"brucegroup/GBM Cohort/RAD-AI-CNS-TUMOR-0001/2019-12-10 09_30_33/10 - Ax T2star GRE/10 - Ax T2star GRE.dicom.zip\",\n",
    "\tlocal_path=\"//onfnas01.uwhis.hosp.wisc.edu/radiology/Groups/IDIAGroup/Data/_Brain/Radiology/_Adult/_Glioma/GBM_Cohort_brucegroup/UW-GBM/dicom_raw/RAD-AI-CNS-TUMOR-0001/2019-12-10 09_30_33/10 - Ax T2star GRE.dicom.zip\"),\n",
    "\"2019_12_10_09_30_33_11 - PseudoSwan.dicom.zip\": FWSImageFile(fw_client=fw_client, fw_path=\"brucegroup/GBM Cohort/RAD-AI-CNS-TUMOR-0001/2019-12-10 09_30_33/11 - PseudoSwan/11 - PseudoSwan.dicom.zip\",\n",
    "\tlocal_path=\"//onfnas01.uwhis.hosp.wisc.edu/radiology/Groups/IDIAGroup/Data/_Brain/Radiology/_Adult/_Glioma/GBM_Cohort_brucegroup/UW-GBM/dicom_raw/RAD-AI-CNS-TUMOR-0001/2019-12-10 09_30_33/11 - PseudoSwan.dicom.zip\"),\n",
    "\"2019_12_10_09_30_33_1199 - Perfusion ROIs.dicom.zip\": FWSImageFile(fw_client=fw_client, fw_path=\"brucegroup/GBM Cohort/RAD-AI-CNS-TUMOR-0001/2019-12-10 09_30_33/1199 - Perfusion ROIs/1199 - Perfusion ROIs.dicom.zip\",\n",
    "\tlocal_path=\"//onfnas01.uwhis.hosp.wisc.edu/radiology/Groups/IDIAGroup/Data/_Brain/Radiology/_Adult/_Glioma/GBM_Cohort_brucegroup/UW-GBM/dicom_raw/RAD-AI-CNS-TUMOR-0001/2019-12-10 09_30_33/1199 - Perfusion ROIs.dicom.zip\"),\n",
    "\"2019_12_10_09_30_33_12 - TUMOR-Ax PERFUSION.dicom.zip\": FWSImageFile(fw_client=fw_client, fw_path=\"brucegroup/GBM Cohort/RAD-AI-CNS-TUMOR-0001/2019-12-10 09_30_33/12 - TUMOR-Ax PERFUSION/12 - TUMOR-Ax PERFUSION.dicom.zip\",\n",
    "\tlocal_path=\"//onfnas01.uwhis.hosp.wisc.edu/radiology/Groups/IDIAGroup/Data/_Brain/Radiology/_Adult/_Glioma/GBM_Cohort_brucegroup/UW-GBM/dicom_raw/RAD-AI-CNS-TUMOR-0001/2019-12-10 09_30_33/12 - TUMOR-Ax PERFUSION.dicom.zip\"),\n",
    "\"2019_12_10_09_30_33_1200 - Baseline.dicom.zip\": FWSImageFile(fw_client=fw_client, fw_path=\"brucegroup/GBM Cohort/RAD-AI-CNS-TUMOR-0001/2019-12-10 09_30_33/1200 - Baseline/1200 - Baseline.dicom.zip\",\n",
    "\tlocal_path=\"//onfnas01.uwhis.hosp.wisc.edu/radiology/Groups/IDIAGroup/Data/_Brain/Radiology/_Adult/_Glioma/GBM_Cohort_brucegroup/UW-GBM/dicom_raw/RAD-AI-CNS-TUMOR-0001/2019-12-10 09_30_33/1200 - Baseline.dicom.zip\"),\n",
    "\"2019_12_10_09_30_33_1202 - rCBV (corrected)(color).dicom.zip\": FWSImageFile(fw_client=fw_client, fw_path=\"brucegroup/GBM Cohort/RAD-AI-CNS-TUMOR-0001/2019-12-10 09_30_33/1202 - rCBV (corrected)(color)/1202 - rCBV (corrected)(color).dicom.zip\",\n",
    "\tlocal_path=\"//onfnas01.uwhis.hosp.wisc.edu/radiology/Groups/IDIAGroup/Data/_Brain/Radiology/_Adult/_Glioma/GBM_Cohort_brucegroup/UW-GBM/dicom_raw/RAD-AI-CNS-TUMOR-0001/2019-12-10 09_30_33/1202 - rCBV (corrected)(color).dicom.zip\"),\n",
    "\"2019_12_10_09_30_33_1203 - CBF (color).dicom.zip\": FWSImageFile(fw_client=fw_client, fw_path=\"brucegroup/GBM Cohort/RAD-AI-CNS-TUMOR-0001/2019-12-10 09_30_33/1203 - CBF (color)/1203 - CBF (color).dicom.zip\",\n",
    "\tlocal_path=\"//onfnas01.uwhis.hosp.wisc.edu/radiology/Groups/IDIAGroup/Data/_Brain/Radiology/_Adult/_Glioma/GBM_Cohort_brucegroup/UW-GBM/dicom_raw/RAD-AI-CNS-TUMOR-0001/2019-12-10 09_30_33/1203 - CBF (color).dicom.zip\"),\n",
    "\"2019_12_10_09_30_33_1204 - FMT (color).dicom.zip\": FWSImageFile(fw_client=fw_client, fw_path=\"brucegroup/GBM Cohort/RAD-AI-CNS-TUMOR-0001/2019-12-10 09_30_33/1204 - FMT (color)/1204 - FMT (color).dicom.zip\",\n",
    "\tlocal_path=\"//onfnas01.uwhis.hosp.wisc.edu/radiology/Groups/IDIAGroup/Data/_Brain/Radiology/_Adult/_Glioma/GBM_Cohort_brucegroup/UW-GBM/dicom_raw/RAD-AI-CNS-TUMOR-0001/2019-12-10 09_30_33/1204 - FMT (color).dicom.zip\"),\n",
    "\"2019_12_10_09_30_33_1205 - Tmax (color).dicom.zip\": FWSImageFile(fw_client=fw_client, fw_path=\"brucegroup/GBM Cohort/RAD-AI-CNS-TUMOR-0001/2019-12-10 09_30_33/1205 - Tmax (color)/1205 - Tmax (color).dicom.zip\",\n",
    "\tlocal_path=\"//onfnas01.uwhis.hosp.wisc.edu/radiology/Groups/IDIAGroup/Data/_Brain/Radiology/_Adult/_Glioma/GBM_Cohort_brucegroup/UW-GBM/dicom_raw/RAD-AI-CNS-TUMOR-0001/2019-12-10 09_30_33/1205 - Tmax (color).dicom.zip\"),\n",
    "\"2019_12_10_09_30_33_1206 - K2 (color).dicom.zip\": FWSImageFile(fw_client=fw_client, fw_path=\"brucegroup/GBM Cohort/RAD-AI-CNS-TUMOR-0001/2019-12-10 09_30_33/1206 - K2 (color)/1206 - K2 (color).dicom.zip\",\n",
    "\tlocal_path=\"//onfnas01.uwhis.hosp.wisc.edu/radiology/Groups/IDIAGroup/Data/_Brain/Radiology/_Adult/_Glioma/GBM_Cohort_brucegroup/UW-GBM/dicom_raw/RAD-AI-CNS-TUMOR-0001/2019-12-10 09_30_33/1206 - K2 (color).dicom.zip\"),\n",
    "\"2019_12_10_09_30_33_1212 - rCBV (corrected).dicom.zip\": FWSImageFile(fw_client=fw_client, fw_path=\"brucegroup/GBM Cohort/RAD-AI-CNS-TUMOR-0001/2019-12-10 09_30_33/1212 - rCBV (corrected)/1212 - rCBV (corrected).dicom.zip\",\n",
    "\tlocal_path=\"//onfnas01.uwhis.hosp.wisc.edu/radiology/Groups/IDIAGroup/Data/_Brain/Radiology/_Adult/_Glioma/GBM_Cohort_brucegroup/UW-GBM/dicom_raw/RAD-AI-CNS-TUMOR-0001/2019-12-10 09_30_33/1212 - rCBV (corrected).dicom.zip\"),\n",
    "\"2019_12_10_09_30_33_1216 - K2.dicom.zip\": FWSImageFile(fw_client=fw_client, fw_path=\"brucegroup/GBM Cohort/RAD-AI-CNS-TUMOR-0001/2019-12-10 09_30_33/1216 - K2/1216 - K2.dicom.zip\",\n",
    "\tlocal_path=\"//onfnas01.uwhis.hosp.wisc.edu/radiology/Groups/IDIAGroup/Data/_Brain/Radiology/_Adult/_Glioma/GBM_Cohort_brucegroup/UW-GBM/dicom_raw/RAD-AI-CNS-TUMOR-0001/2019-12-10 09_30_33/1216 - K2.dicom.zip\"),\n",
    "\"2019_12_10_09_30_33_13 - +C Sag T2 FLAIR.dicom.zip\": FWSImageFile(fw_client=fw_client, fw_path=\"brucegroup/GBM Cohort/RAD-AI-CNS-TUMOR-0001/2019-12-10 09_30_33/13 - +C Sag T2 FLAIR/13 - +C Sag T2 FLAIR.dicom.zip\",\n",
    "\tlocal_path=\"//onfnas01.uwhis.hosp.wisc.edu/radiology/Groups/IDIAGroup/Data/_Brain/Radiology/_Adult/_Glioma/GBM_Cohort_brucegroup/UW-GBM/dicom_raw/RAD-AI-CNS-TUMOR-0001/2019-12-10 09_30_33/13 - +C Sag T2 FLAIR.dicom.zip\"),\n",
    "\"2019_12_10_09_30_33_14 - +C Ax T1 BRAVO Stealth.dicom.zip\": FWSImageFile(fw_client=fw_client, fw_path=\"brucegroup/GBM Cohort/RAD-AI-CNS-TUMOR-0001/2019-12-10 09_30_33/14 - +C Ax T1 BRAVO Stealth/14 - +C Ax T1 BRAVO Stealth.dicom.zip\",\n",
    "\tlocal_path=\"//onfnas01.uwhis.hosp.wisc.edu/radiology/Groups/IDIAGroup/Data/_Brain/Radiology/_Adult/_Glioma/GBM_Cohort_brucegroup/UW-GBM/dicom_raw/RAD-AI-CNS-TUMOR-0001/2019-12-10 09_30_33/14 - +C Ax T1 BRAVO Stealth.dicom.zip\"),\n",
    "\"2019_12_10_09_30_33_15 - +C Cor T1 Cube VASC.dicom.zip\": FWSImageFile(fw_client=fw_client, fw_path=\"brucegroup/GBM Cohort/RAD-AI-CNS-TUMOR-0001/2019-12-10 09_30_33/15 - +C Cor T1 Cube VASC/15 - +C Cor T1 Cube VASC.dicom.zip\",\n",
    "\tlocal_path=\"//onfnas01.uwhis.hosp.wisc.edu/radiology/Groups/IDIAGroup/Data/_Brain/Radiology/_Adult/_Glioma/GBM_Cohort_brucegroup/UW-GBM/dicom_raw/RAD-AI-CNS-TUMOR-0001/2019-12-10 09_30_33/15 - +C Cor T1 Cube VASC.dicom.zip\"),\n",
    "\"2019_12_10_09_30_33_16 - +C Cor T1 Fat FSPGR.dicom.zip\": FWSImageFile(fw_client=fw_client, fw_path=\"brucegroup/GBM Cohort/RAD-AI-CNS-TUMOR-0001/2019-12-10 09_30_33/16 - +C Cor T1 Fat FSPGR/16 - +C Cor T1 Fat FSPGR.dicom.zip\",\n",
    "\tlocal_path=\"//onfnas01.uwhis.hosp.wisc.edu/radiology/Groups/IDIAGroup/Data/_Brain/Radiology/_Adult/_Glioma/GBM_Cohort_brucegroup/UW-GBM/dicom_raw/RAD-AI-CNS-TUMOR-0001/2019-12-10 09_30_33/16 - +C Cor T1 Fat FSPGR.dicom.zip\"),\n",
    "\"2019_12_10_09_30_33_3 - Sag T1 FLAIR.dicom.zip\": FWSImageFile(fw_client=fw_client, fw_path=\"brucegroup/GBM Cohort/RAD-AI-CNS-TUMOR-0001/2019-12-10 09_30_33/3 - Sag T1 FLAIR/3 - Sag T1 FLAIR.dicom.zip\",\n",
    "\tlocal_path=\"//onfnas01.uwhis.hosp.wisc.edu/radiology/Groups/IDIAGroup/Data/_Brain/Radiology/_Adult/_Glioma/GBM_Cohort_brucegroup/UW-GBM/dicom_raw/RAD-AI-CNS-TUMOR-0001/2019-12-10 09_30_33/3 - Sag T1 FLAIR.dicom.zip\"),\n",
    "\"2019_12_10_09_30_33_4 - Ax T2 FRFSE FAT.dicom.zip\": FWSImageFile(fw_client=fw_client, fw_path=\"brucegroup/GBM Cohort/RAD-AI-CNS-TUMOR-0001/2019-12-10 09_30_33/4 - Ax T2 FRFSE FAT/4 - Ax T2 FRFSE FAT.dicom.zip\",\n",
    "\tlocal_path=\"//onfnas01.uwhis.hosp.wisc.edu/radiology/Groups/IDIAGroup/Data/_Brain/Radiology/_Adult/_Glioma/GBM_Cohort_brucegroup/UW-GBM/dicom_raw/RAD-AI-CNS-TUMOR-0001/2019-12-10 09_30_33/4 - Ax T2 FRFSE FAT.dicom.zip\"),\n",
    "\"2019_12_10_09_30_33_5 - Ax DWI.dicom.zip\": FWSImageFile(fw_client=fw_client, fw_path=\"brucegroup/GBM Cohort/RAD-AI-CNS-TUMOR-0001/2019-12-10 09_30_33/5 - Ax DWI/5 - Ax DWI.dicom.zip\",\n",
    "\tlocal_path=\"//onfnas01.uwhis.hosp.wisc.edu/radiology/Groups/IDIAGroup/Data/_Brain/Radiology/_Adult/_Glioma/GBM_Cohort_brucegroup/UW-GBM/dicom_raw/RAD-AI-CNS-TUMOR-0001/2019-12-10 09_30_33/5 - Ax DWI.dicom.zip\"),\n",
    "\"2019_12_10_09_30_33_550 - ADC.dicom.zip\": FWSImageFile(fw_client=fw_client, fw_path=\"brucegroup/GBM Cohort/RAD-AI-CNS-TUMOR-0001/2019-12-10 09_30_33/550 - ADC/550 - ADC.dicom.zip\",\n",
    "\tlocal_path=\"//onfnas01.uwhis.hosp.wisc.edu/radiology/Groups/IDIAGroup/Data/_Brain/Radiology/_Adult/_Glioma/GBM_Cohort_brucegroup/UW-GBM/dicom_raw/RAD-AI-CNS-TUMOR-0001/2019-12-10 09_30_33/550 - ADC.dicom.zip\"),\n",
    "\"2019_12_10_09_30_33_6 - Ax T2star GRE.dicom.zip\": FWSImageFile(fw_client=fw_client, fw_path=\"brucegroup/GBM Cohort/RAD-AI-CNS-TUMOR-0001/2019-12-10 09_30_33/6 - Ax T2star GRE/6 - Ax T2star GRE.dicom.zip\",\n",
    "\tlocal_path=\"//onfnas01.uwhis.hosp.wisc.edu/radiology/Groups/IDIAGroup/Data/_Brain/Radiology/_Adult/_Glioma/GBM_Cohort_brucegroup/UW-GBM/dicom_raw/RAD-AI-CNS-TUMOR-0001/2019-12-10 09_30_33/6 - Ax T2star GRE.dicom.zip\"),\n",
    "\"2019_12_10_09_30_33_7 - Cor T2 Fat.dicom.zip\": FWSImageFile(fw_client=fw_client, fw_path=\"brucegroup/GBM Cohort/RAD-AI-CNS-TUMOR-0001/2019-12-10 09_30_33/7 - Cor T2 Fat/7 - Cor T2 Fat.dicom.zip\",\n",
    "\tlocal_path=\"//onfnas01.uwhis.hosp.wisc.edu/radiology/Groups/IDIAGroup/Data/_Brain/Radiology/_Adult/_Glioma/GBM_Cohort_brucegroup/UW-GBM/dicom_raw/RAD-AI-CNS-TUMOR-0001/2019-12-10 09_30_33/7 - Cor T2 Fat.dicom.zip\"),\n",
    "\"2019_12_10_09_30_33_8 - Cor T1 3D BRAVO.dicom.zip\": FWSImageFile(fw_client=fw_client, fw_path=\"brucegroup/GBM Cohort/RAD-AI-CNS-TUMOR-0001/2019-12-10 09_30_33/8 - Cor T1 3D BRAVO/8 - Cor T1 3D BRAVO.dicom.zip\",\n",
    "\tlocal_path=\"//onfnas01.uwhis.hosp.wisc.edu/radiology/Groups/IDIAGroup/Data/_Brain/Radiology/_Adult/_Glioma/GBM_Cohort_brucegroup/UW-GBM/dicom_raw/RAD-AI-CNS-TUMOR-0001/2019-12-10 09_30_33/8 - Cor T1 3D BRAVO.dicom.zip\"),\n",
    "\"2019_12_10_09_30_33_9 - 3D Ax ASL.dicom.zip\": FWSImageFile(fw_client=fw_client, fw_path=\"brucegroup/GBM Cohort/RAD-AI-CNS-TUMOR-0001/2019-12-10 09_30_33/9 - 3D Ax ASL/9 - 3D Ax ASL.dicom.zip\",\n",
    "\tlocal_path=\"//onfnas01.uwhis.hosp.wisc.edu/radiology/Groups/IDIAGroup/Data/_Brain/Radiology/_Adult/_Glioma/GBM_Cohort_brucegroup/UW-GBM/dicom_raw/RAD-AI-CNS-TUMOR-0001/2019-12-10 09_30_33/9 - 3D Ax ASL.dicom.zip\"),\n",
    "\"2019_12_10_09_30_33_2 - Cal Head 34.dicom.zip\": FWSImageFile(fw_client=fw_client, fw_path=\"brucegroup/GBM Cohort/RAD-AI-CNS-TUMOR-0001/2019-12-10 09_30_33/2 - Cal Head 34/2 - Cal Head 34.dicom.zip\",\n",
    "\tlocal_path=\"//onfnas01.uwhis.hosp.wisc.edu/radiology/Groups/IDIAGroup/Data/_Brain/Radiology/_Adult/_Glioma/GBM_Cohort_brucegroup/UW-GBM/dicom_raw/RAD-AI-CNS-TUMOR-0001/2019-12-10 09_30_33/2 - Cal Head 34.dicom.zip\"),\n",
    "})"
   ]
  },
  {
   "cell_type": "code",
   "execution_count": 7,
   "id": "8749ac98-a721-4cc3-833b-a0ebd1915b57",
   "metadata": {
    "scrolled": true
   },
   "outputs": [
    {
     "name": "stdout",
     "output_type": "stream",
     "text": [
      "time_point>>>> RAD-AI-CNS-TUMOR-0001\n"
     ]
    }
   ],
   "source": [
    "# @FWS-STEP 1 dicom selection\n",
    "logger.info(f\"{mri_data} Starting dicom selection\")\n",
    "selected_files = DicomSelectionSingle(fws_input_files)"
   ]
  },
  {
   "cell_type": "code",
   "execution_count": 8,
   "id": "528fa9bf-52c6-49e2-b9d0-10e1b9d20100",
   "metadata": {
    "scrolled": true
   },
   "outputs": [],
   "source": [
    "#  @FWS-STEP 2 dicom conversion\n",
    "logger.info(f\"Starting dicom conversion\")\n",
    "convert_dataset_to_nifti(selected_files, fw_acquisition_label='nifti_raw')\n",
    "logger.info(f\" DICOM CONVERSION DONE\")"
   ]
  },
  {
   "cell_type": "code",
   "execution_count": 10,
   "id": "e8610af4-6f32-4add-b685-b74052cf1251",
   "metadata": {
    "scrolled": true
   },
   "outputs": [
    {
     "name": "stdout",
     "output_type": "stream",
     "text": [
      "Ax T2star GRE.nii.gz\n",
      "C Sag T2 FLAIR.nii.gz\n",
      "C Ax T1 BRAVO Stealth.nii.gz\n",
      "C Cor T1 Fat FSPGR.nii.gz\n",
      "Sag T1 FLAIR.nii.gz\n",
      "Ax T2 FRFSE FAT.nii.gz\n",
      "Ax T2star GRE.nii.gz\n",
      "Cor T2 Fat.nii.gz\n",
      "Cor T1 3D BRAVO.nii.gz\n"
     ]
    }
   ],
   "source": [
    "def mri_data_check(fws_selected_files):\n",
    "    for file in fws_selected_files.values():\n",
    "        print(file.file_name())\n",
    "\n",
    "# @FWS-STEP 3 nifti selection\n",
    "logger.info(f\" Starting Nifti selection for \")\n",
    "\n",
    "# MRIQc=MRI_DataCheck(dataset, dirs.raw_nifti, root_path, dirs.logs) # from utils.generic\n",
    "mri_data_check(selected_files)\n",
    "# MRIQc.copy_and_rename_files(pp_settings, dirs.raw_nifti, dirs.preprocessed)\n",
    "\n",
    "logger.info(f\" Nifti SELECTION DONE for\")\n"
   ]
  },
  {
   "cell_type": "code",
   "execution_count": null,
   "id": "d1816362-b00f-46b0-aaf5-0d9e5f74ae5d",
   "metadata": {
    "scrolled": true
   },
   "outputs": [],
   "source": [
    "# @FWS-STEP 4 preprocessing\n",
    "logger.info(f\" Starting MRI Preprocessing for {dataset}\")\n",
    "\n",
    "pp_config = Config2Struct(configs[\"preprocessing\"][\"ants_preprocessing\"])\n",
    "#get_config_params(pp_config) # print Config attributtes\n",
    "\n",
    "MRIpp=MRIPreprocessing(dataset, dirs, gen_config, pp_settings, pp_config) # from preprocessing.ants_pp_utils\n",
    "\n",
    "MRIpp.run_pipeline()\n"
   ]
  },
  {
   "cell_type": "code",
   "execution_count": null,
   "id": "7aa8982e",
   "metadata": {},
   "outputs": [],
   "source": [
    "# @FWS-STEP 5 verify conversion\n",
    "verify_conversion(input_path, output_path)\n",
    "# old results:\n",
    "# Total DICOM series: 541\n",
    "# Total NIfTI files created: 536\n",
    "# Conversion rate: 99.08%"
   ]
  }
 ],
 "metadata": {
  "kernelspec": {
   "display_name": "Python 3 (ipykernel)",
   "language": "python",
   "name": "python3"
  },
  "language_info": {
   "codemirror_mode": {
    "name": "ipython",
    "version": 3
   },
   "file_extension": ".py",
   "mimetype": "text/x-python",
   "name": "python",
   "nbconvert_exporter": "python",
   "pygments_lexer": "ipython3",
   "version": "3.11.7"
  }
 },
 "nbformat": 4,
 "nbformat_minor": 5
}
