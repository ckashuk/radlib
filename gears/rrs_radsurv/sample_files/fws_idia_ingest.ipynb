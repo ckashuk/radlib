{
 "cells": [
  {
   "cell_type": "code",
   "execution_count": 1,
   "id": "5049a559-bd13-4ad9-ba70-e52ec18af0f8",
   "metadata": {},
   "outputs": [],
   "source": [
    "# @FWS-IMPORTS add all import requirements here\n",
    "from radlib_imports import *"
   ]
  },
  {
   "cell_type": "code",
   "execution_count": 5,
   "id": "bb8608d3-712e-4608-94dc-b12d498b25c3",
   "metadata": {},
   "outputs": [],
   "source": [
    "# @FWS-FILES part of the script mechanism that will be replaced by the gear\"s context\n",
    "root_path=\"z:/radiology/Groups/IDIAGroup/Data/_Brain/Radiology/_Adult/_Glioma/GBM_Cohort_brucegroup/\"\n",
    "mri_data=\"TCGA-GBM\"\n",
    "indir=\"DICOM_structuralMRI_fws\"\n",
    "outdir=\"nifti_raw\"\n",
    "\n",
    "input_path=os.path.join(root_path,mri_data,indir)\n",
    "output_path=os.path.join(root_path,mri_data,outdir)\n",
    "\n",
    "fw_client = uwhealthaz_client()\n",
    "group_id = ''\n",
    "project_label = \"GBM Cohort\"\n",
    "subject_label = \"RAD-AI-CNS-TUMOR-0001\"\n",
    "\n",
    "logger = logging.getLogger(__name__)\n",
    "fws_files = fws_input_file_list(fw_client, project_label, subject_labels=['RAD-AI-CNS-TUMOR-0001'], generate_code=False,\n",
    "                                        local_root='//onfnas01.uwhis.hosp.wisc.edu/radiology/Groups/IDIAGroup/Data/_Brain/Radiology/_Adult/_Glioma/GBM_Cohort_brucegroup/UW-GBM/dicom_raw/RAD-AI-CNS-TUMOR-0001/2019-12-10 09_30_33')"
   ]
  },
  {
   "cell_type": "code",
   "execution_count": 6,
   "id": "fee139fb-12bd-4dda-b437-c5a9bbd1ae43",
   "metadata": {
    "jupyter": {
     "source_hidden": true
    }
   },
   "outputs": [],
   "source": [
    "# FWS-INPUTS edit this cell to the flywheel file references that you need, add local_path(s) if necessary, then TURN OFF generate_code above\n",
    "local_root = \"//onfnas01.uwhis.hosp.wisc.edu/radiology/Groups/IDIAGroup/Data/_Brain/Radiology/_Adult/_Glioma/GBM_Cohort_brucegroup/UW-GBM/dicom_raw/RAD-AI-CNS-TUMOR-0001/2019-12-10 09_30_33\"\n",
    "fws_input_files = FWSImageFileList( {\n",
    "\"2019_12_10_09_30_33_1 - 3-Plane Loc.dicom.zip\": FWSImageFile(fw_client=fw_client, fw_path=\"brucegroup/GBM Cohort/RAD-AI-CNS-TUMOR-0001/2019-12-10 09_30_33/1 - 3-Plane Loc/1 - 3-Plane Loc.dicom.zip\",\n",
    "\tlocal_path=\"//onfnas01.uwhis.hosp.wisc.edu/radiology/Groups/IDIAGroup/Data/_Brain/Radiology/_Adult/_Glioma/GBM_Cohort_brucegroup/UW-GBM/dicom_raw/RAD-AI-CNS-TUMOR-0001/2019-12-10 09_30_33/1 - 3-Plane Loc.dicom.zip\"),\n",
    "\"2019_12_10_09_30_33_10 - Ax T2star GRE.dicom.zip\": FWSImageFile(fw_client=fw_client, fw_path=\"brucegroup/GBM Cohort/RAD-AI-CNS-TUMOR-0001/2019-12-10 09_30_33/10 - Ax T2star GRE/10 - Ax T2star GRE.dicom.zip\",\n",
    "\tlocal_path=\"//onfnas01.uwhis.hosp.wisc.edu/radiology/Groups/IDIAGroup/Data/_Brain/Radiology/_Adult/_Glioma/GBM_Cohort_brucegroup/UW-GBM/dicom_raw/RAD-AI-CNS-TUMOR-0001/2019-12-10 09_30_33/10 - Ax T2star GRE.dicom.zip\"),\n",
    "\"2019_12_10_09_30_33_11 - PseudoSwan.dicom.zip\": FWSImageFile(fw_client=fw_client, fw_path=\"brucegroup/GBM Cohort/RAD-AI-CNS-TUMOR-0001/2019-12-10 09_30_33/11 - PseudoSwan/11 - PseudoSwan.dicom.zip\",\n",
    "\tlocal_path=\"//onfnas01.uwhis.hosp.wisc.edu/radiology/Groups/IDIAGroup/Data/_Brain/Radiology/_Adult/_Glioma/GBM_Cohort_brucegroup/UW-GBM/dicom_raw/RAD-AI-CNS-TUMOR-0001/2019-12-10 09_30_33/11 - PseudoSwan.dicom.zip\"),\n",
    "\"2019_12_10_09_30_33_1199 - Perfusion ROIs.dicom.zip\": FWSImageFile(fw_client=fw_client, fw_path=\"brucegroup/GBM Cohort/RAD-AI-CNS-TUMOR-0001/2019-12-10 09_30_33/1199 - Perfusion ROIs/1199 - Perfusion ROIs.dicom.zip\",\n",
    "\tlocal_path=\"//onfnas01.uwhis.hosp.wisc.edu/radiology/Groups/IDIAGroup/Data/_Brain/Radiology/_Adult/_Glioma/GBM_Cohort_brucegroup/UW-GBM/dicom_raw/RAD-AI-CNS-TUMOR-0001/2019-12-10 09_30_33/1199 - Perfusion ROIs.dicom.zip\"),\n",
    "\"2019_12_10_09_30_33_12 - TUMOR-Ax PERFUSION.dicom.zip\": FWSImageFile(fw_client=fw_client, fw_path=\"brucegroup/GBM Cohort/RAD-AI-CNS-TUMOR-0001/2019-12-10 09_30_33/12 - TUMOR-Ax PERFUSION/12 - TUMOR-Ax PERFUSION.dicom.zip\",\n",
    "\tlocal_path=\"//onfnas01.uwhis.hosp.wisc.edu/radiology/Groups/IDIAGroup/Data/_Brain/Radiology/_Adult/_Glioma/GBM_Cohort_brucegroup/UW-GBM/dicom_raw/RAD-AI-CNS-TUMOR-0001/2019-12-10 09_30_33/12 - TUMOR-Ax PERFUSION.dicom.zip\"),\n",
    "\"2019_12_10_09_30_33_1200 - Baseline.dicom.zip\": FWSImageFile(fw_client=fw_client, fw_path=\"brucegroup/GBM Cohort/RAD-AI-CNS-TUMOR-0001/2019-12-10 09_30_33/1200 - Baseline/1200 - Baseline.dicom.zip\",\n",
    "\tlocal_path=\"//onfnas01.uwhis.hosp.wisc.edu/radiology/Groups/IDIAGroup/Data/_Brain/Radiology/_Adult/_Glioma/GBM_Cohort_brucegroup/UW-GBM/dicom_raw/RAD-AI-CNS-TUMOR-0001/2019-12-10 09_30_33/1200 - Baseline.dicom.zip\"),\n",
    "\"2019_12_10_09_30_33_1202 - rCBV (corrected)(color).dicom.zip\": FWSImageFile(fw_client=fw_client, fw_path=\"brucegroup/GBM Cohort/RAD-AI-CNS-TUMOR-0001/2019-12-10 09_30_33/1202 - rCBV (corrected)(color)/1202 - rCBV (corrected)(color).dicom.zip\",\n",
    "\tlocal_path=\"//onfnas01.uwhis.hosp.wisc.edu/radiology/Groups/IDIAGroup/Data/_Brain/Radiology/_Adult/_Glioma/GBM_Cohort_brucegroup/UW-GBM/dicom_raw/RAD-AI-CNS-TUMOR-0001/2019-12-10 09_30_33/1202 - rCBV (corrected)(color).dicom.zip\"),\n",
    "\"2019_12_10_09_30_33_1203 - CBF (color).dicom.zip\": FWSImageFile(fw_client=fw_client, fw_path=\"brucegroup/GBM Cohort/RAD-AI-CNS-TUMOR-0001/2019-12-10 09_30_33/1203 - CBF (color)/1203 - CBF (color).dicom.zip\",\n",
    "\tlocal_path=\"//onfnas01.uwhis.hosp.wisc.edu/radiology/Groups/IDIAGroup/Data/_Brain/Radiology/_Adult/_Glioma/GBM_Cohort_brucegroup/UW-GBM/dicom_raw/RAD-AI-CNS-TUMOR-0001/2019-12-10 09_30_33/1203 - CBF (color).dicom.zip\"),\n",
    "\"2019_12_10_09_30_33_1204 - FMT (color).dicom.zip\": FWSImageFile(fw_client=fw_client, fw_path=\"brucegroup/GBM Cohort/RAD-AI-CNS-TUMOR-0001/2019-12-10 09_30_33/1204 - FMT (color)/1204 - FMT (color).dicom.zip\",\n",
    "\tlocal_path=\"//onfnas01.uwhis.hosp.wisc.edu/radiology/Groups/IDIAGroup/Data/_Brain/Radiology/_Adult/_Glioma/GBM_Cohort_brucegroup/UW-GBM/dicom_raw/RAD-AI-CNS-TUMOR-0001/2019-12-10 09_30_33/1204 - FMT (color).dicom.zip\"),\n",
    "\"2019_12_10_09_30_33_1205 - Tmax (color).dicom.zip\": FWSImageFile(fw_client=fw_client, fw_path=\"brucegroup/GBM Cohort/RAD-AI-CNS-TUMOR-0001/2019-12-10 09_30_33/1205 - Tmax (color)/1205 - Tmax (color).dicom.zip\",\n",
    "\tlocal_path=\"//onfnas01.uwhis.hosp.wisc.edu/radiology/Groups/IDIAGroup/Data/_Brain/Radiology/_Adult/_Glioma/GBM_Cohort_brucegroup/UW-GBM/dicom_raw/RAD-AI-CNS-TUMOR-0001/2019-12-10 09_30_33/1205 - Tmax (color).dicom.zip\"),\n",
    "\"2019_12_10_09_30_33_1206 - K2 (color).dicom.zip\": FWSImageFile(fw_client=fw_client, fw_path=\"brucegroup/GBM Cohort/RAD-AI-CNS-TUMOR-0001/2019-12-10 09_30_33/1206 - K2 (color)/1206 - K2 (color).dicom.zip\",\n",
    "\tlocal_path=\"//onfnas01.uwhis.hosp.wisc.edu/radiology/Groups/IDIAGroup/Data/_Brain/Radiology/_Adult/_Glioma/GBM_Cohort_brucegroup/UW-GBM/dicom_raw/RAD-AI-CNS-TUMOR-0001/2019-12-10 09_30_33/1206 - K2 (color).dicom.zip\"),\n",
    "\"2019_12_10_09_30_33_1212 - rCBV (corrected).dicom.zip\": FWSImageFile(fw_client=fw_client, fw_path=\"brucegroup/GBM Cohort/RAD-AI-CNS-TUMOR-0001/2019-12-10 09_30_33/1212 - rCBV (corrected)/1212 - rCBV (corrected).dicom.zip\",\n",
    "\tlocal_path=\"//onfnas01.uwhis.hosp.wisc.edu/radiology/Groups/IDIAGroup/Data/_Brain/Radiology/_Adult/_Glioma/GBM_Cohort_brucegroup/UW-GBM/dicom_raw/RAD-AI-CNS-TUMOR-0001/2019-12-10 09_30_33/1212 - rCBV (corrected).dicom.zip\"),\n",
    "\"2019_12_10_09_30_33_1216 - K2.dicom.zip\": FWSImageFile(fw_client=fw_client, fw_path=\"brucegroup/GBM Cohort/RAD-AI-CNS-TUMOR-0001/2019-12-10 09_30_33/1216 - K2/1216 - K2.dicom.zip\",\n",
    "\tlocal_path=\"//onfnas01.uwhis.hosp.wisc.edu/radiology/Groups/IDIAGroup/Data/_Brain/Radiology/_Adult/_Glioma/GBM_Cohort_brucegroup/UW-GBM/dicom_raw/RAD-AI-CNS-TUMOR-0001/2019-12-10 09_30_33/1216 - K2.dicom.zip\"),\n",
    "\"2019_12_10_09_30_33_13 - +C Sag T2 FLAIR.dicom.zip\": FWSImageFile(fw_client=fw_client, fw_path=\"brucegroup/GBM Cohort/RAD-AI-CNS-TUMOR-0001/2019-12-10 09_30_33/13 - +C Sag T2 FLAIR/13 - +C Sag T2 FLAIR.dicom.zip\",\n",
    "\tlocal_path=\"//onfnas01.uwhis.hosp.wisc.edu/radiology/Groups/IDIAGroup/Data/_Brain/Radiology/_Adult/_Glioma/GBM_Cohort_brucegroup/UW-GBM/dicom_raw/RAD-AI-CNS-TUMOR-0001/2019-12-10 09_30_33/13 - +C Sag T2 FLAIR.dicom.zip\"),\n",
    "\"2019_12_10_09_30_33_14 - +C Ax T1 BRAVO Stealth.dicom.zip\": FWSImageFile(fw_client=fw_client, fw_path=\"brucegroup/GBM Cohort/RAD-AI-CNS-TUMOR-0001/2019-12-10 09_30_33/14 - +C Ax T1 BRAVO Stealth/14 - +C Ax T1 BRAVO Stealth.dicom.zip\",\n",
    "\tlocal_path=\"//onfnas01.uwhis.hosp.wisc.edu/radiology/Groups/IDIAGroup/Data/_Brain/Radiology/_Adult/_Glioma/GBM_Cohort_brucegroup/UW-GBM/dicom_raw/RAD-AI-CNS-TUMOR-0001/2019-12-10 09_30_33/14 - +C Ax T1 BRAVO Stealth.dicom.zip\"),\n",
    "\"2019_12_10_09_30_33_15 - +C Cor T1 Cube VASC.dicom.zip\": FWSImageFile(fw_client=fw_client, fw_path=\"brucegroup/GBM Cohort/RAD-AI-CNS-TUMOR-0001/2019-12-10 09_30_33/15 - +C Cor T1 Cube VASC/15 - +C Cor T1 Cube VASC.dicom.zip\",\n",
    "\tlocal_path=\"//onfnas01.uwhis.hosp.wisc.edu/radiology/Groups/IDIAGroup/Data/_Brain/Radiology/_Adult/_Glioma/GBM_Cohort_brucegroup/UW-GBM/dicom_raw/RAD-AI-CNS-TUMOR-0001/2019-12-10 09_30_33/15 - +C Cor T1 Cube VASC.dicom.zip\"),\n",
    "\"2019_12_10_09_30_33_16 - +C Cor T1 Fat FSPGR.dicom.zip\": FWSImageFile(fw_client=fw_client, fw_path=\"brucegroup/GBM Cohort/RAD-AI-CNS-TUMOR-0001/2019-12-10 09_30_33/16 - +C Cor T1 Fat FSPGR/16 - +C Cor T1 Fat FSPGR.dicom.zip\",\n",
    "\tlocal_path=\"//onfnas01.uwhis.hosp.wisc.edu/radiology/Groups/IDIAGroup/Data/_Brain/Radiology/_Adult/_Glioma/GBM_Cohort_brucegroup/UW-GBM/dicom_raw/RAD-AI-CNS-TUMOR-0001/2019-12-10 09_30_33/16 - +C Cor T1 Fat FSPGR.dicom.zip\"),\n",
    "\"2019_12_10_09_30_33_3 - Sag T1 FLAIR.dicom.zip\": FWSImageFile(fw_client=fw_client, fw_path=\"brucegroup/GBM Cohort/RAD-AI-CNS-TUMOR-0001/2019-12-10 09_30_33/3 - Sag T1 FLAIR/3 - Sag T1 FLAIR.dicom.zip\",\n",
    "\tlocal_path=\"//onfnas01.uwhis.hosp.wisc.edu/radiology/Groups/IDIAGroup/Data/_Brain/Radiology/_Adult/_Glioma/GBM_Cohort_brucegroup/UW-GBM/dicom_raw/RAD-AI-CNS-TUMOR-0001/2019-12-10 09_30_33/3 - Sag T1 FLAIR.dicom.zip\"),\n",
    "\"2019_12_10_09_30_33_4 - Ax T2 FRFSE FAT.dicom.zip\": FWSImageFile(fw_client=fw_client, fw_path=\"brucegroup/GBM Cohort/RAD-AI-CNS-TUMOR-0001/2019-12-10 09_30_33/4 - Ax T2 FRFSE FAT/4 - Ax T2 FRFSE FAT.dicom.zip\",\n",
    "\tlocal_path=\"//onfnas01.uwhis.hosp.wisc.edu/radiology/Groups/IDIAGroup/Data/_Brain/Radiology/_Adult/_Glioma/GBM_Cohort_brucegroup/UW-GBM/dicom_raw/RAD-AI-CNS-TUMOR-0001/2019-12-10 09_30_33/4 - Ax T2 FRFSE FAT.dicom.zip\"),\n",
    "\"2019_12_10_09_30_33_5 - Ax DWI.dicom.zip\": FWSImageFile(fw_client=fw_client, fw_path=\"brucegroup/GBM Cohort/RAD-AI-CNS-TUMOR-0001/2019-12-10 09_30_33/5 - Ax DWI/5 - Ax DWI.dicom.zip\",\n",
    "\tlocal_path=\"//onfnas01.uwhis.hosp.wisc.edu/radiology/Groups/IDIAGroup/Data/_Brain/Radiology/_Adult/_Glioma/GBM_Cohort_brucegroup/UW-GBM/dicom_raw/RAD-AI-CNS-TUMOR-0001/2019-12-10 09_30_33/5 - Ax DWI.dicom.zip\"),\n",
    "\"2019_12_10_09_30_33_550 - ADC.dicom.zip\": FWSImageFile(fw_client=fw_client, fw_path=\"brucegroup/GBM Cohort/RAD-AI-CNS-TUMOR-0001/2019-12-10 09_30_33/550 - ADC/550 - ADC.dicom.zip\",\n",
    "\tlocal_path=\"//onfnas01.uwhis.hosp.wisc.edu/radiology/Groups/IDIAGroup/Data/_Brain/Radiology/_Adult/_Glioma/GBM_Cohort_brucegroup/UW-GBM/dicom_raw/RAD-AI-CNS-TUMOR-0001/2019-12-10 09_30_33/550 - ADC.dicom.zip\"),\n",
    "\"2019_12_10_09_30_33_6 - Ax T2star GRE.dicom.zip\": FWSImageFile(fw_client=fw_client, fw_path=\"brucegroup/GBM Cohort/RAD-AI-CNS-TUMOR-0001/2019-12-10 09_30_33/6 - Ax T2star GRE/6 - Ax T2star GRE.dicom.zip\",\n",
    "\tlocal_path=\"//onfnas01.uwhis.hosp.wisc.edu/radiology/Groups/IDIAGroup/Data/_Brain/Radiology/_Adult/_Glioma/GBM_Cohort_brucegroup/UW-GBM/dicom_raw/RAD-AI-CNS-TUMOR-0001/2019-12-10 09_30_33/6 - Ax T2star GRE.dicom.zip\"),\n",
    "\"2019_12_10_09_30_33_7 - Cor T2 Fat.dicom.zip\": FWSImageFile(fw_client=fw_client, fw_path=\"brucegroup/GBM Cohort/RAD-AI-CNS-TUMOR-0001/2019-12-10 09_30_33/7 - Cor T2 Fat/7 - Cor T2 Fat.dicom.zip\",\n",
    "\tlocal_path=\"//onfnas01.uwhis.hosp.wisc.edu/radiology/Groups/IDIAGroup/Data/_Brain/Radiology/_Adult/_Glioma/GBM_Cohort_brucegroup/UW-GBM/dicom_raw/RAD-AI-CNS-TUMOR-0001/2019-12-10 09_30_33/7 - Cor T2 Fat.dicom.zip\"),\n",
    "\"2019_12_10_09_30_33_8 - Cor T1 3D BRAVO.dicom.zip\": FWSImageFile(fw_client=fw_client, fw_path=\"brucegroup/GBM Cohort/RAD-AI-CNS-TUMOR-0001/2019-12-10 09_30_33/8 - Cor T1 3D BRAVO/8 - Cor T1 3D BRAVO.dicom.zip\",\n",
    "\tlocal_path=\"//onfnas01.uwhis.hosp.wisc.edu/radiology/Groups/IDIAGroup/Data/_Brain/Radiology/_Adult/_Glioma/GBM_Cohort_brucegroup/UW-GBM/dicom_raw/RAD-AI-CNS-TUMOR-0001/2019-12-10 09_30_33/8 - Cor T1 3D BRAVO.dicom.zip\"),\n",
    "\"2019_12_10_09_30_33_9 - 3D Ax ASL.dicom.zip\": FWSImageFile(fw_client=fw_client, fw_path=\"brucegroup/GBM Cohort/RAD-AI-CNS-TUMOR-0001/2019-12-10 09_30_33/9 - 3D Ax ASL/9 - 3D Ax ASL.dicom.zip\",\n",
    "\tlocal_path=\"//onfnas01.uwhis.hosp.wisc.edu/radiology/Groups/IDIAGroup/Data/_Brain/Radiology/_Adult/_Glioma/GBM_Cohort_brucegroup/UW-GBM/dicom_raw/RAD-AI-CNS-TUMOR-0001/2019-12-10 09_30_33/9 - 3D Ax ASL.dicom.zip\"),\n",
    "\"2019_12_10_09_30_33_2 - Cal Head 34.dicom.zip\": FWSImageFile(fw_client=fw_client, fw_path=\"brucegroup/GBM Cohort/RAD-AI-CNS-TUMOR-0001/2019-12-10 09_30_33/2 - Cal Head 34/2 - Cal Head 34.dicom.zip\",\n",
    "\tlocal_path=\"//onfnas01.uwhis.hosp.wisc.edu/radiology/Groups/IDIAGroup/Data/_Brain/Radiology/_Adult/_Glioma/GBM_Cohort_brucegroup/UW-GBM/dicom_raw/RAD-AI-CNS-TUMOR-0001/2019-12-10 09_30_33/2 - Cal Head 34.dicom.zip\"),\n",
    "})"
   ]
  },
  {
   "cell_type": "code",
   "execution_count": 7,
   "id": "8749ac98-a721-4cc3-833b-a0ebd1915b57",
   "metadata": {
    "scrolled": true
   },
   "outputs": [
    {
     "name": "stdout",
     "output_type": "stream",
     "text": [
      "time_point>>>> RAD-AI-CNS-TUMOR-0001\n"
     ]
    }
   ],
   "source": [
    "# @FWS-STEP 1 dicom selection\n",
    "logger.info(f\"{mri_data} Starting dicom selection\")\n",
    "selected_files = DicomSelectionSingle(fws_input_files)"
   ]
  },
  {
   "cell_type": "code",
   "execution_count": 8,
   "id": "528fa9bf-52c6-49e2-b9d0-10e1b9d20100",
   "metadata": {
    "scrolled": true
   },
   "outputs": [],
   "source": [
    "#  @FWS-STEP 2 dicom conversion\n",
    "logger.info(f\"Starting dicom conversion\")\n",
    "convert_dataset_to_nifti(selected_files, fw_acquisition_label='nifti_raw')\n",
    "logger.info(f\" DICOM CONVERSION DONE\")"
   ]
  },
  {
   "cell_type": "code",
   "execution_count": 10,
   "id": "e8610af4-6f32-4add-b685-b74052cf1251",
   "metadata": {
    "scrolled": true
   },
   "outputs": [
    {
     "name": "stdout",
     "output_type": "stream",
     "text": [
      "Ax T2star GRE.nii.gz\n",
      "C Sag T2 FLAIR.nii.gz\n",
      "C Ax T1 BRAVO Stealth.nii.gz\n",
      "C Cor T1 Fat FSPGR.nii.gz\n",
      "Sag T1 FLAIR.nii.gz\n",
      "Ax T2 FRFSE FAT.nii.gz\n",
      "Ax T2star GRE.nii.gz\n",
      "Cor T2 Fat.nii.gz\n",
      "Cor T1 3D BRAVO.nii.gz\n"
     ]
    }
   ],
   "source": [
    "def mri_data_check(fws_selected_files):\n",
    "    for file in fws_selected_files.values():\n",
    "        print(file.file_name())\n",
    "\n",
    "# @FWS-STEP 3 nifti selection\n",
    "logger.info(f\" Starting Nifti selection for \")\n",
    "\n",
    "# MRIQc=MRI_DataCheck(dataset, dirs.raw_nifti, root_path, dirs.logs) # from utils.generic\n",
    "mri_data_check(selected_files)\n",
    "# MRIQc.copy_and_rename_files(pp_settings, dirs.raw_nifti, dirs.preprocessed)\n",
    "\n",
    "logger.info(f\" Nifti SELECTION DONE for\")\n"
   ]
  }
 ],
 "metadata": {
  "kernelspec": {
   "display_name": "Python 3 (ipykernel)",
   "language": "python",
   "name": "python3"
  },
  "language_info": {
   "codemirror_mode": {
    "name": "ipython",
    "version": 3
   },
   "file_extension": ".py",
   "mimetype": "text/x-python",
   "name": "python",
   "nbconvert_exporter": "python",
   "pygments_lexer": "ipython3",
   "version": "3.11.7"
  }
 },
 "nbformat": 4,
 "nbformat_minor": 5
}
