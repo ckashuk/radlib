{
 "cells": [
  {
   "metadata": {},
   "cell_type": "code",
   "outputs": [],
   "execution_count": null,
   "source": "# packages (do not add numpy, pandas, simpleitk)\n",
   "id": "45dd1ef9a6eeb21a"
  },
  {
   "metadata": {},
   "cell_type": "code",
   "outputs": [],
   "execution_count": null,
   "source": "# setup (this will be edited out)\n",
   "id": "e2137dd4312b996f"
  },
  {
   "metadata": {},
   "cell_type": "code",
   "outputs": [],
   "execution_count": null,
   "source": "# inputs\n",
   "id": "396d1c276a8e3c4a"
  },
  {
   "metadata": {},
   "cell_type": "code",
   "outputs": [],
   "execution_count": null,
   "source": "# code\n",
   "id": "1ddd1fcdedeb1a1a"
  },
  {
   "metadata": {},
   "cell_type": "code",
   "outputs": [],
   "execution_count": null,
   "source": "# outputs\n",
   "id": "ca5d6d88eec300ba"
  },
  {
   "metadata": {},
   "cell_type": "code",
   "outputs": [],
   "execution_count": null,
   "source": "# cleanup (this will be edited out)",
   "id": "7c434717b550b647"
  },
  {
   "metadata": {},
   "cell_type": "code",
   "outputs": [],
   "execution_count": null,
   "source": "",
   "id": "5c983ced7bb7ba10"
  }
 ],
 "metadata": {},
 "nbformat": 5,
 "nbformat_minor": 9
}
